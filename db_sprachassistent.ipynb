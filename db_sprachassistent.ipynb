{
 "cells": [
  {
   "cell_type": "code",
   "execution_count": 1,
   "metadata": {},
   "outputs": [],
   "source": [
    "import spacy\n",
    "import os\n",
    "import time\n",
    "from spacy.matcher import PhraseMatcher\n",
    "from spacy import displacy\n",
    "nlp = spacy.load(\"C:\\\\Users\\\\georgmerz\\\\AppData\\\\Local\\\\Continuum\\\\anaconda3\\\\Lib\\\\site-packages\\\\de_core_news_sm\\\\de_core_news_sm-2.0.0\")"
   ]
  },
  {
   "cell_type": "code",
   "execution_count": 9,
   "metadata": {
    "scrolled": true
   },
   "outputs": [
    {
     "name": "stdout",
     "output_type": "stream",
     "text": [
      "Say something\n",
      "Audiotake finished\n",
      "Hallo ich möchte von Rostock nach Bielefeld\n",
      "LOC\n",
      "LOC\n",
      "[Rostock, Bielefeld]\n",
      "Start incredible graph search...\n",
      "welcome_1544280824.mp3\n"
     ]
    }
   ],
   "source": [
    "import speech_recognition as sr\n",
    "\n",
    "\n",
    "# obtain audio from the microphone\n",
    "r = sr.Recognizer()\n",
    "with sr.Microphone() as source:\n",
    "    r.adjust_for_ambient_noise(source)\n",
    "    print(\"Say something\")\n",
    "    audio = r.listen(source)\n",
    "print(\"Audiotake finished\")\n",
    "\n",
    "# recognize speech using Google Speech Recognition\n",
    "try:\n",
    "    # for testing purposes, we're just using the default API key\n",
    "    # to use another API key, use `r.recognize_google(audio, key=\"GOOGLE_SPEECH_RECOGNITION_API_KEY\")`\n",
    "    # instead of `r.recognize_google(audio)`\n",
    "    doc_string=r.recognize_google(audio,language=\"de\")\n",
    "except sr.UnknownValueError:\n",
    "    print(\"Google Speech Recognition could not understand audio\")\n",
    "    output = \"Ich habe dich leider nicht verstanden\"\n",
    "except sr.RequestError as e:\n",
    "    print(\"Could not request results from Google Speech Recognition service; {0}\".format(e))\n",
    "    output = \"Dieser Dienst ist zur Zeit leider nicht verfügbar.\"\n",
    "else:\n",
    "    \n",
    "    print(doc_string)\n",
    "    startbahnhof=[\"Von\",\"von\",\"Ab\",\"ab\"]\n",
    "    zielbahnhof=[\"nach\",\"zu\",\"Nach\",\"Zu\"]\n",
    "\n",
    "    doc=nlp(doc_string)\n",
    "    token_list=[word for word in doc]\n",
    "    ents = doc.ents \n",
    "    for ent in ents:\n",
    "        print(ent.label_)\n",
    "\n",
    "    locations = list(filter(lambda x: x.label_ == \"LOC\", ents))\n",
    "\n",
    "    print(locations)\n",
    "\n",
    "\n",
    "\n",
    "\n",
    "    for location in locations:\n",
    "        doc_string=doc_string.replace(location.text,\"Frankfurt\")\n",
    "\n",
    "    proc_doc=nlp(doc_string)\n",
    "    matcher = PhraseMatcher(nlp.vocab)\n",
    "    matcher.add('Frankfurt', None, nlp(\"Frankfurt\"))\n",
    "    matches=matcher(proc_doc)\n",
    "    indices=[match[1] for match in matches]\n",
    "\n",
    "    print(\"Start incredible graph search...\")\n",
    "\n",
    "    destination_list=[]\n",
    "    start_list=[]\n",
    "    for k in range(len(locations)):\n",
    "        tok_word=proc_doc[indices[k]]\n",
    "\n",
    "\n",
    "        while(True):\n",
    "            if(tok_word.head.text in startbahnhof):\n",
    "                start_list.append(locations[k])\n",
    "                break\n",
    "            if(tok_word.head.text in zielbahnhof):\n",
    "                destination_list.append(locations[k])\n",
    "                break\n",
    "            if(tok_word==tok_word.head):\n",
    "                break\n",
    "            tok_word=tok_word.head\n",
    "\n",
    "\n",
    "    if len(start_list) > 0 and len(destination_list) > 0:  \n",
    "        import schiene\n",
    "        s = schiene.Schiene()\n",
    "        fahrplan=s.connections(start_list[0].text, destination_list[0].text)\n",
    "        if len(fahrplan) >0:\n",
    "\n",
    "            output = \"Der nächste Zug von \"+str(start_list[0].text)+ \" fährt um \" +fahrplan[0][\"departure\"]+    \" nach \" + str(destination_list[0].text) + \" und kommt um \" +str(fahrplan[0][\"arrival\"])+ \" Uhr an\"\n",
    "        else: \n",
    "            output = \"Ich habe leider keine Verbindung für dich gefunden.\"\n",
    "    else:\n",
    "        output = \"Ich bin mir nicht ganz sicher, was du wissen willst.\"\n",
    "# ENDE ELSE-BLOCK\n",
    "    \n",
    "from gtts import gTTS \n",
    "  \n",
    "# This module is imported so that we can  \n",
    "# play the converted audio \n",
    "import os \n",
    "  \n",
    "# The text that you want to convert to audio \n",
    "\n",
    "  \n",
    "# Language in which you want to convert \n",
    "language = 'de'\n",
    "  \n",
    "# Passing the text and language to the engine,  \n",
    "# here we have marked slow=False. Which tells  \n",
    "# the module that the converted audio should  \n",
    "# have a high speed \n",
    "myobj = gTTS(text=output, lang=language, slow=False)\n",
    "out_filename = \"welcome_\" + str(int(time.time())) + \".mp3\"\n",
    "print(out_filename)\n",
    "myobj.save(out_filename) \n",
    "\n",
    "from pygame import mixer # Load the required library\n",
    "\n",
    "mixer.init()\n",
    "mixer.music.load(out_filename)\n",
    "mixer.music.play()\n",
    "time.sleep(15)\n",
    "mixer.quit()"
   ]
  },
  {
   "cell_type": "code",
   "execution_count": null,
   "metadata": {},
   "outputs": [],
   "source": []
  },
  {
   "cell_type": "code",
   "execution_count": 12,
   "metadata": {},
   "outputs": [
    {
     "data": {
      "text/plain": [
       "1"
      ]
     },
     "execution_count": 12,
     "metadata": {},
     "output_type": "execute_result"
    }
   ],
   "source": [
    "os.system(\"welcome.mp3\")"
   ]
  },
  {
   "cell_type": "code",
   "execution_count": null,
   "metadata": {},
   "outputs": [],
   "source": []
  },
  {
   "cell_type": "code",
   "execution_count": null,
   "metadata": {},
   "outputs": [],
   "source": []
  },
  {
   "cell_type": "code",
   "execution_count": null,
   "metadata": {},
   "outputs": [],
   "source": []
  },
  {
   "cell_type": "code",
   "execution_count": null,
   "metadata": {},
   "outputs": [],
   "source": []
  },
  {
   "cell_type": "code",
   "execution_count": null,
   "metadata": {},
   "outputs": [],
   "source": []
  },
  {
   "cell_type": "code",
   "execution_count": null,
   "metadata": {},
   "outputs": [],
   "source": []
  },
  {
   "cell_type": "code",
   "execution_count": null,
   "metadata": {},
   "outputs": [],
   "source": []
  },
  {
   "cell_type": "code",
   "execution_count": null,
   "metadata": {},
   "outputs": [],
   "source": []
  }
 ],
 "metadata": {
  "kernelspec": {
   "display_name": "Python 3",
   "language": "python",
   "name": "python3"
  },
  "language_info": {
   "codemirror_mode": {
    "name": "ipython",
    "version": 3
   },
   "file_extension": ".py",
   "mimetype": "text/x-python",
   "name": "python",
   "nbconvert_exporter": "python",
   "pygments_lexer": "ipython3",
   "version": "3.6.5"
  }
 },
 "nbformat": 4,
 "nbformat_minor": 2
}
